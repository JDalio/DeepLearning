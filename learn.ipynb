{
 "cells": [
  {
   "cell_type": "code",
   "execution_count": 1,
   "metadata": {},
   "outputs": [
    {
     "ename": "ImportError",
     "evalue": "No module named 'lr_utils'",
     "traceback": [
      "\u001b[1;31m---------------------------------------------------------------------------\u001b[0m",
      "\u001b[1;31mImportError\u001b[0m                               Traceback (most recent call last)",
      "\u001b[1;32m<ipython-input-1-a3dd17e0d88e>\u001b[0m in \u001b[0;36m<module>\u001b[1;34m()\u001b[0m\n\u001b[0;32m      5\u001b[0m \u001b[1;32mfrom\u001b[0m \u001b[0mPIL\u001b[0m \u001b[1;32mimport\u001b[0m \u001b[0mImage\u001b[0m\u001b[1;33m\u001b[0m\u001b[0m\n\u001b[0;32m      6\u001b[0m \u001b[1;31m# from scipy import ndimage\u001b[0m\u001b[1;33m\u001b[0m\u001b[1;33m\u001b[0m\u001b[0m\n\u001b[1;32m----> 7\u001b[1;33m \u001b[1;32mfrom\u001b[0m \u001b[0mlr_utils\u001b[0m \u001b[1;32mimport\u001b[0m \u001b[0mload_dataset\u001b[0m\u001b[1;33m\u001b[0m\u001b[0m\n\u001b[0m\u001b[0;32m      8\u001b[0m \u001b[1;33m\u001b[0m\u001b[0m\n\u001b[0;32m      9\u001b[0m \u001b[1;32mdef\u001b[0m \u001b[0msigmoid\u001b[0m\u001b[1;33m(\u001b[0m\u001b[0mz\u001b[0m\u001b[1;33m)\u001b[0m\u001b[1;33m:\u001b[0m\u001b[1;33m\u001b[0m\u001b[0m\n",
      "\u001b[1;31mImportError\u001b[0m: No module named 'lr_utils'"
     ],
     "output_type": "error"
    }
   ],
   "source": [
    "import numpy as np\n",
    "import pylab as plt\n",
    "import h5py\n",
    "import scipy\n",
    "from PIL import Image\n",
    "# from scipy import ndimage\n",
    "from lr_utils import load_dataset\n",
    "\n",
    "def sigmoid(z):\n",
    "    return 1/(1+np.exp(-z))\n",
    "\n",
    "def initialize_with_zeros(dim):\n",
    "    w=np.zeros([dim,1])\n",
    "    b=0\n",
    "    return w,b\n",
    "\n",
    "def propagate(w,b,X,Y):\n",
    "    m=X.shape[1]\n",
    "    \n",
    "    #FORWARD PROPAGATION\n",
    "    A=sigmoid(np.dot(w.T,X)+b)\n",
    "    cost=(-1/m)*np.sum(Y*np.log(A)+(1-Y)*np.log(1-A))\n",
    "    \n",
    "    #BACKWARD PROPAGATION\n",
    "    dw=(1/m)*np.dot(X,(A-Y).T)\n",
    "    db=(1/m)*np.sum(A-Y)\n",
    "    \n",
    "    cost=np.squeeze(cost)\n",
    "    grads={'dw':dw,'db':db}\n",
    "    \n",
    "    return grads,cost\n",
    "\n",
    "def optimize(w,b,X,Y,num_iterations,learning_rate,print_cost=False):\n",
    "    costs=[]\n",
    "    for i in range(num_iterations):\n",
    "        grads,cost=propagate(w,b,X,Y)\n",
    "        w-=learning_rate*grads['dw']\n",
    "        db=learning_rate*grads['db']\n",
    "        \n",
    "        if i%100==0:\n",
    "            costs.append(cost)\n",
    "        \n",
    "        if print_cost and i%100==0:\n",
    "            print('Cost :',i,'times:',cost)\n",
    "    \n",
    "    params={'w':w,'b':b}\n",
    "    \n",
    "    grads={'dw':dw,'db':db}\n",
    "    \n",
    "    return params,grads,costs\n",
    "        \n",
    "train_set_x_orig, train_set_y, test_set_x_orig, test_set_y, classes=load_dataset()\n",
    "\n",
    "#训练集中样本个数\n",
    "m_train=train_set_y.shape[1]\n",
    "#测试集中样本个数\n",
    "m_test=test_set_y.shape[1]\n",
    "#每个图片为num_px*num_px的\n",
    "num_px=train_set_x_orig[1]\n",
    "\n",
    "train_set_x_flatten=train_set_x_orig.reshape(m_train,-1).T\n",
    "test_set_x_flatten=test_set_x_orig.reshape(m_test,-1).T\n",
    "\n",
    "train_set_x=train_set_x_flatten/255\n",
    "test_set_x=test_set_x_flatten/255\n",
    "\n",
    "dim=m_train\n",
    "w,b=initialize_with_zeros(dim)\n",
    "X=train_set_x\n",
    "Y=train_set_y\n",
    "\n",
    "params,grads,costs=optimize(w,b,X,Y,1000,0.009,True)"
   ]
  },
  {
   "cell_type": "code",
   "execution_count": 8,
   "metadata": {},
   "outputs": [
    {
     "data": {
      "text/plain": [
       "\"dict() -> new empty dictionary\\ndict(mapping) -> new dictionary initialized from a mapping object's\\n    (key, value) pairs\\ndict(iterable) -> new dictionary initialized as if via:\\n    d = {}\\n    for k, v in iterable:\\n        d[k] = v\\ndict(**kwargs) -> new dictionary initialized with the name=value pairs\\n    in the keyword argument list.  For example:  dict(one=1, two=2)\""
      ]
     },
     "execution_count": 8,
     "metadata": {},
     "output_type": "execute_result"
    }
   ],
   "source": [
    "'''\n",
    "key steps\n",
    "- Initialize the parameters of the model\n",
    "- Learn the parameters for the model by minimizing the cost  \n",
    "- Use the learned parameters to make predictions (on the test set)\n",
    "- Analyse the results and conclude\n",
    "'''\n",
    "'''\n",
    "Define the model structure (such as number of input features)\n",
    "Initialize the model's parameters\n",
    "Loop:\n",
    "Calculate current loss (forward propagation)\n",
    "Calculate current gradient (backward propagation)\n",
    "Update parameters (gradient descent)\n",
    "'''"
   ]
  }
 ],
 "metadata": {
  "kernelspec": {
   "display_name": "Python 2",
   "language": "python",
   "name": "python2"
  },
  "language_info": {
   "codemirror_mode": {
    "name": "ipython",
    "version": 2
   },
   "file_extension": ".py",
   "mimetype": "text/x-python",
   "name": "python",
   "nbconvert_exporter": "python",
   "pygments_lexer": "ipython2",
   "version": "2.7.6"
  }
 },
 "nbformat": 4,
 "nbformat_minor": 0
}
